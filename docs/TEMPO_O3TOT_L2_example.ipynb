{
 "cells": [
  {
   "cell_type": "markdown",
   "metadata": {},
   "source": [
    "# TEMPO_O3TOT_L2 Harmony Tests"
   ]
  },
  {
   "cell_type": "markdown",
   "metadata": {},
   "source": [
    "### Environment setup:\n",
    "\n",
    "This notebook assumes that it is being run in a local Python environment, configured using either `pyenv` or conda. Either can be used, but the dependencies will be installed via Pip. To install the required packages to run this notebook:\n",
    "\n",
    "```bash\n",
    "$ pip install -r requirements.txt\n",
    "```\n",
    "\n",
    "A `.netrc` file must also be located in the user's home directory."
   ]
  },
  {
   "cell_type": "markdown",
   "metadata": {},
   "source": [
    "#### Import Requirements:"
   ]
  },
  {
   "cell_type": "code",
   "execution_count": 1,
   "metadata": {},
   "outputs": [],
   "source": [
    "from os.path import exists\n",
    "from os import makedirs, replace\n",
    "from os.path import exists, join as path_join\n",
    "from shutil import rmtree\n",
    "from harmony import Client, Environment, Collection, Request\n",
    "from harmony.harmony import ProcessingFailedException"
   ]
  },
  {
   "cell_type": "markdown",
   "metadata": {},
   "source": [
    "#### Set the Harmony Environment:"
   ]
  },
  {
   "cell_type": "code",
   "execution_count": 2,
   "metadata": {},
   "outputs": [],
   "source": [
    "harmony_host_url = 'http://localhost:3000'"
   ]
  },
  {
   "cell_type": "markdown",
   "metadata": {},
   "source": [
    "### Identify Harmony environment (for easier reference):"
   ]
  },
  {
   "cell_type": "code",
   "execution_count": 3,
   "metadata": {},
   "outputs": [],
   "source": [
    "host_environment = {'http://localhost:3000': Environment.LOCAL,\n",
    "                    'https://harmony.sit.earthdata.nasa.gov': Environment.SIT,\n",
    "                    'https://harmony.uat.earthdata.nasa.gov': Environment.UAT,\n",
    "                    'https://harmony.earthdata.nasa.gov': Environment.PROD}\n",
    "\n",
    "\n",
    "harmony_environment = host_environment.get(harmony_host_url)\n",
    "\n",
    "if harmony_environment is not None:\n",
    "    harmony_client = Client(env=harmony_environment)"
   ]
  },
  {
   "cell_type": "markdown",
   "metadata": {},
   "source": [
    "#### TEMPO_O3TOT_L2 Data:"
   ]
  },
  {
   "cell_type": "code",
   "execution_count": 4,
   "metadata": {},
   "outputs": [],
   "source": [
    "collection = Collection(id='C1270257471-EEDTEST')\n",
    "granule_id='G1270257472-EEDTEST'"
   ]
  },
  {
   "cell_type": "markdown",
   "metadata": {},
   "source": [
    "#### Building Swath Projector Request:"
   ]
  },
  {
   "cell_type": "code",
   "execution_count": 5,
   "metadata": {},
   "outputs": [],
   "source": [
    "harmony_client = Client(env=Environment.LOCAL)\n",
    "request = Request(\n",
    "  crs='EPSG:4326',\n",
    "  interpolation='near',\n",
    "  collection=collection,\n",
    "  granule_id=granule_id\n",
    ")"
   ]
  },
  {
   "cell_type": "markdown",
   "metadata": {},
   "source": [
    "#### Create output directory to save test results:"
   ]
  },
  {
   "cell_type": "code",
   "execution_count": 6,
   "metadata": {},
   "outputs": [],
   "source": [
    "collection_short_name = 'TEMPO_O3TOT_L2'\n",
    "output_directory = path_join('output_files', collection_short_name) + '/'\n",
    "\n",
    "if exists(output_directory):\n",
    "    rmtree(output_directory)\n",
    "\n",
    "makedirs(output_directory)"
   ]
  },
  {
   "cell_type": "markdown",
   "metadata": {},
   "source": [
    "#### Submitting Harmony Request:"
   ]
  },
  {
   "cell_type": "code",
   "execution_count": null,
   "metadata": {},
   "outputs": [],
   "source": [
    "def submit_and_download(harmony_client: Client, request: Request,\n",
    "                        output_file_name: str):\n",
    "    \"\"\" Submit a Harmony request via a `harmony-py` client. Wait for the\n",
    "        Harmony job to finish, then download the results to the specified file\n",
    "        path.\n",
    "\n",
    "    \"\"\"\n",
    "    downloaded_filename = None\n",
    "\n",
    "    try:\n",
    "        job_id = harmony_client.submit(request)\n",
    "\n",
    "        for filename in [file_future.result()\n",
    "                         for file_future\n",
    "                         in harmony_client.download_all(job_id,\n",
    "                                                        overwrite=True)]:\n",
    "\n",
    "            print(f'Downloaded: {filename}')\n",
    "            downloaded_filename = filename\n",
    "\n",
    "        if downloaded_filename is not None:\n",
    "            replace(downloaded_filename, output_file_name)\n",
    "            print(f'Saved output to: {output_file_name}')\n",
    "\n",
    "    except ProcessingFailedException:\n",
    "        print_error('Harmony request failed to complete successfully.')\n",
    "\n",
    "def print_error(error_string: str) -> str:\n",
    "    \"\"\"Print an error, with formatting for red text. \"\"\"\n",
    "    print(f'\\033[91m{error_string}\\033[0m')\n",
    "\n",
    "swath_output_file_name = output_directory + f'TEMPO_O3TOT_L2_{granule_id}_output.h5'\n",
    "submit_and_download(harmony_client, request, swath_output_file_name)"
   ]
  }
 ],
 "metadata": {
  "kernelspec": {
   "display_name": "localharmony",
   "language": "python",
   "name": "python3"
  },
  "language_info": {
   "codemirror_mode": {
    "name": "ipython",
    "version": 3
   },
   "file_extension": ".py",
   "mimetype": "text/x-python",
   "name": "python",
   "nbconvert_exporter": "python",
   "pygments_lexer": "ipython3",
   "version": "3.11.10"
  }
 },
 "nbformat": 4,
 "nbformat_minor": 2
}
